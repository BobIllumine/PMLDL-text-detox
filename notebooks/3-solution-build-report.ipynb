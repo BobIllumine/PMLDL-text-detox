{
 "cells": [
  {
   "cell_type": "markdown",
   "metadata": {},
   "source": [
    "# Text De-Toxification, part III: Building Solution\n",
    "### Robert Chen, B20-AI\n",
    "--------------------"
   ]
  },
  {
   "cell_type": "markdown",
   "metadata": {},
   "source": [
    "## Step 0: Imports"
   ]
  },
  {
   "cell_type": "code",
   "execution_count": null,
   "metadata": {},
   "outputs": [],
   "source": []
  },
  {
   "cell_type": "markdown",
   "metadata": {},
   "source": [
    "## Step 1: Baseline"
   ]
  },
  {
   "cell_type": "markdown",
   "metadata": {},
   "source": [
    "The [original paper](https://arxiv.org/pdf/2109.08914.pdf) uses two approaches for the *text detoxification* task: **condBERT** and **ParaGeDi**. **ParaGeDi** generates completely new text based on the input, while **condBERT** identifies every word with high toxicity score and substitutes it with less toxic synonyms. Both models performed far better than the rest of fine-tuned language models. We will use the **condBERT** for this task."
   ]
  },
  {
   "cell_type": "markdown",
   "metadata": {},
   "source": []
  }
 ],
 "metadata": {
  "kernelspec": {
   "display_name": "base",
   "language": "python",
   "name": "python3"
  },
  "language_info": {
   "name": "python",
   "version": "3.11.4"
  },
  "orig_nbformat": 4
 },
 "nbformat": 4,
 "nbformat_minor": 2
}

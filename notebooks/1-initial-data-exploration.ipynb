{
 "cells": [
  {
   "cell_type": "markdown",
   "metadata": {},
   "source": [
    "# Text De-Toxification, part I: Data Exploration\n",
    "### Robert Chen, B20-AI\n",
    "--------------------"
   ]
  },
  {
   "cell_type": "markdown",
   "metadata": {},
   "source": [
    "## Step 0: Imports"
   ]
  },
  {
   "cell_type": "code",
   "execution_count": 8,
   "metadata": {},
   "outputs": [],
   "source": [
    "import pandas as pd\n",
    "import numpy as np\n",
    "from matplotlib import pyplot as plt"
   ]
  },
  {
   "cell_type": "markdown",
   "metadata": {},
   "source": [
    "## Step 1: Exploring initial `ParaMNT-detox` corpus"
   ]
  },
  {
   "cell_type": "markdown",
   "metadata": {},
   "source": [
    "Let us unpack and import the data first:"
   ]
  },
  {
   "cell_type": "code",
   "execution_count": 9,
   "metadata": {
    "vscode": {
     "languageId": "shellscript"
    }
   },
   "outputs": [],
   "source": [
    "#!/usr/bin/bash\n",
    "DATA_DIR=\"../data\"\n",
    "! sh $DATA_DIR/download_paranmt.sh"
   ]
  },
  {
   "cell_type": "markdown",
   "metadata": {},
   "source": [
    "Now, we can safely parse the `.tsv` file via `pandas`"
   ]
  },
  {
   "cell_type": "code",
   "execution_count": 10,
   "metadata": {},
   "outputs": [
    {
     "data": {
      "text/html": [
       "<div>\n",
       "<style scoped>\n",
       "    .dataframe tbody tr th:only-of-type {\n",
       "        vertical-align: middle;\n",
       "    }\n",
       "\n",
       "    .dataframe tbody tr th {\n",
       "        vertical-align: top;\n",
       "    }\n",
       "\n",
       "    .dataframe thead th {\n",
       "        text-align: right;\n",
       "    }\n",
       "</style>\n",
       "<table border=\"1\" class=\"dataframe\">\n",
       "  <thead>\n",
       "    <tr style=\"text-align: right;\">\n",
       "      <th></th>\n",
       "      <th>reference</th>\n",
       "      <th>translation</th>\n",
       "      <th>similarity</th>\n",
       "      <th>lenght_diff</th>\n",
       "      <th>ref_tox</th>\n",
       "      <th>trn_tox</th>\n",
       "    </tr>\n",
       "  </thead>\n",
       "  <tbody>\n",
       "    <tr>\n",
       "      <th>0</th>\n",
       "      <td>If Alkar is flooding her with psychic waste, t...</td>\n",
       "      <td>if Alkar floods her with her mental waste, it ...</td>\n",
       "      <td>0.785171</td>\n",
       "      <td>0.010309</td>\n",
       "      <td>0.014195</td>\n",
       "      <td>0.981983</td>\n",
       "    </tr>\n",
       "    <tr>\n",
       "      <th>1</th>\n",
       "      <td>Now you're getting nasty.</td>\n",
       "      <td>you're becoming disgusting.</td>\n",
       "      <td>0.749687</td>\n",
       "      <td>0.071429</td>\n",
       "      <td>0.065473</td>\n",
       "      <td>0.999039</td>\n",
       "    </tr>\n",
       "    <tr>\n",
       "      <th>2</th>\n",
       "      <td>Well, we could spare your life, for one.</td>\n",
       "      <td>well, we can spare your life.</td>\n",
       "      <td>0.919051</td>\n",
       "      <td>0.268293</td>\n",
       "      <td>0.213313</td>\n",
       "      <td>0.985068</td>\n",
       "    </tr>\n",
       "    <tr>\n",
       "      <th>3</th>\n",
       "      <td>Ah! Monkey, you've got to snap out of it.</td>\n",
       "      <td>monkey, you have to wake up.</td>\n",
       "      <td>0.664333</td>\n",
       "      <td>0.309524</td>\n",
       "      <td>0.053362</td>\n",
       "      <td>0.994215</td>\n",
       "    </tr>\n",
       "    <tr>\n",
       "      <th>4</th>\n",
       "      <td>I've got orders to put her down.</td>\n",
       "      <td>I have orders to kill her.</td>\n",
       "      <td>0.726639</td>\n",
       "      <td>0.181818</td>\n",
       "      <td>0.009402</td>\n",
       "      <td>0.999348</td>\n",
       "    </tr>\n",
       "  </tbody>\n",
       "</table>\n",
       "</div>"
      ],
      "text/plain": [
       "                                           reference  \\\n",
       "0  If Alkar is flooding her with psychic waste, t...   \n",
       "1                          Now you're getting nasty.   \n",
       "2           Well, we could spare your life, for one.   \n",
       "3          Ah! Monkey, you've got to snap out of it.   \n",
       "4                   I've got orders to put her down.   \n",
       "\n",
       "                                         translation  similarity  lenght_diff  \\\n",
       "0  if Alkar floods her with her mental waste, it ...    0.785171     0.010309   \n",
       "1                        you're becoming disgusting.    0.749687     0.071429   \n",
       "2                      well, we can spare your life.    0.919051     0.268293   \n",
       "3                       monkey, you have to wake up.    0.664333     0.309524   \n",
       "4                         I have orders to kill her.    0.726639     0.181818   \n",
       "\n",
       "    ref_tox   trn_tox  \n",
       "0  0.014195  0.981983  \n",
       "1  0.065473  0.999039  \n",
       "2  0.213313  0.985068  \n",
       "3  0.053362  0.994215  \n",
       "4  0.009402  0.999348  "
      ]
     },
     "execution_count": 10,
     "metadata": {},
     "output_type": "execute_result"
    }
   ],
   "source": [
    "data = pd.read_csv('../data/raw/filtered.tsv', delimiter='\\t', index_col=0)\n",
    "data.head()"
   ]
  },
  {
   "cell_type": "markdown",
   "metadata": {},
   "source": [
    "Let us first check for missing values:"
   ]
  },
  {
   "cell_type": "code",
   "execution_count": 11,
   "metadata": {},
   "outputs": [
    {
     "data": {
      "text/plain": [
       "reference      0\n",
       "translation    0\n",
       "similarity     0\n",
       "lenght_diff    0\n",
       "ref_tox        0\n",
       "trn_tox        0\n",
       "dtype: int64"
      ]
     },
     "execution_count": 11,
     "metadata": {},
     "output_type": "execute_result"
    }
   ],
   "source": [
    "data.isna().sum()"
   ]
  },
  {
   "cell_type": "markdown",
   "metadata": {},
   "source": [
    "Since there are no missing values in the dataset, we can omit the data imputing step. Let us look at the stats of non-string columns:"
   ]
  },
  {
   "cell_type": "code",
   "execution_count": 12,
   "metadata": {},
   "outputs": [
    {
     "data": {
      "text/html": [
       "<div>\n",
       "<style scoped>\n",
       "    .dataframe tbody tr th:only-of-type {\n",
       "        vertical-align: middle;\n",
       "    }\n",
       "\n",
       "    .dataframe tbody tr th {\n",
       "        vertical-align: top;\n",
       "    }\n",
       "\n",
       "    .dataframe thead th {\n",
       "        text-align: right;\n",
       "    }\n",
       "</style>\n",
       "<table border=\"1\" class=\"dataframe\">\n",
       "  <thead>\n",
       "    <tr style=\"text-align: right;\">\n",
       "      <th></th>\n",
       "      <th>similarity</th>\n",
       "      <th>lenght_diff</th>\n",
       "      <th>ref_tox</th>\n",
       "      <th>trn_tox</th>\n",
       "    </tr>\n",
       "  </thead>\n",
       "  <tbody>\n",
       "    <tr>\n",
       "      <th>count</th>\n",
       "      <td>577777.000000</td>\n",
       "      <td>577777.000000</td>\n",
       "      <td>577777.000000</td>\n",
       "      <td>577777.000000</td>\n",
       "    </tr>\n",
       "    <tr>\n",
       "      <th>mean</th>\n",
       "      <td>0.758469</td>\n",
       "      <td>0.157652</td>\n",
       "      <td>0.541372</td>\n",
       "      <td>0.434490</td>\n",
       "    </tr>\n",
       "    <tr>\n",
       "      <th>std</th>\n",
       "      <td>0.092695</td>\n",
       "      <td>0.108057</td>\n",
       "      <td>0.457571</td>\n",
       "      <td>0.458904</td>\n",
       "    </tr>\n",
       "    <tr>\n",
       "      <th>min</th>\n",
       "      <td>0.600001</td>\n",
       "      <td>0.000000</td>\n",
       "      <td>0.000033</td>\n",
       "      <td>0.000033</td>\n",
       "    </tr>\n",
       "    <tr>\n",
       "      <th>25%</th>\n",
       "      <td>0.681105</td>\n",
       "      <td>0.066667</td>\n",
       "      <td>0.012171</td>\n",
       "      <td>0.000707</td>\n",
       "    </tr>\n",
       "    <tr>\n",
       "      <th>50%</th>\n",
       "      <td>0.754439</td>\n",
       "      <td>0.141791</td>\n",
       "      <td>0.806795</td>\n",
       "      <td>0.085133</td>\n",
       "    </tr>\n",
       "    <tr>\n",
       "      <th>75%</th>\n",
       "      <td>0.831244</td>\n",
       "      <td>0.238095</td>\n",
       "      <td>0.990469</td>\n",
       "      <td>0.973739</td>\n",
       "    </tr>\n",
       "    <tr>\n",
       "      <th>max</th>\n",
       "      <td>0.950000</td>\n",
       "      <td>0.400000</td>\n",
       "      <td>0.999724</td>\n",
       "      <td>0.999730</td>\n",
       "    </tr>\n",
       "  </tbody>\n",
       "</table>\n",
       "</div>"
      ],
      "text/plain": [
       "          similarity    lenght_diff        ref_tox        trn_tox\n",
       "count  577777.000000  577777.000000  577777.000000  577777.000000\n",
       "mean        0.758469       0.157652       0.541372       0.434490\n",
       "std         0.092695       0.108057       0.457571       0.458904\n",
       "min         0.600001       0.000000       0.000033       0.000033\n",
       "25%         0.681105       0.066667       0.012171       0.000707\n",
       "50%         0.754439       0.141791       0.806795       0.085133\n",
       "75%         0.831244       0.238095       0.990469       0.973739\n",
       "max         0.950000       0.400000       0.999724       0.999730"
      ]
     },
     "execution_count": 12,
     "metadata": {},
     "output_type": "execute_result"
    }
   ],
   "source": [
    "data.describe()"
   ]
  },
  {
   "cell_type": "markdown",
   "metadata": {},
   "source": [
    "Looking at the maximum values of `ref_tox` (toxicity level of referenced text) and `trn_tox` (toxicity level of translated sentence), we can see that translated sentences sometimes present a more toxic translation than the referenced text already is. That is why we also need to account this during the training.as"
   ]
  },
  {
   "cell_type": "code",
   "execution_count": 13,
   "metadata": {},
   "outputs": [
    {
     "data": {
      "text/plain": [
       "<Axes: >"
      ]
     },
     "execution_count": 13,
     "metadata": {},
     "output_type": "execute_result"
    },
    {
     "data": {
      "image/png": "[encoded data removed]",
      "text/plain": [
       "<Figure size 640x480 with 1 Axes>"
      ]
     },
     "metadata": {},
     "output_type": "display_data"
    }
   ],
   "source": [
    "data.ref_tox.hist()\n",
    "data.trn_tox.hist()"
   ]
  },
  {
   "cell_type": "code",
   "execution_count": 16,
   "metadata": {},
   "outputs": [
    {
     "data": {
      "text/html": [
       "<div>\n",
       "<style scoped>\n",
       "    .dataframe tbody tr th:only-of-type {\n",
       "        vertical-align: middle;\n",
       "    }\n",
       "\n",
       "    .dataframe tbody tr th {\n",
       "        vertical-align: top;\n",
       "    }\n",
       "\n",
       "    .dataframe thead th {\n",
       "        text-align: right;\n",
       "    }\n",
       "</style>\n",
       "<table border=\"1\" class=\"dataframe\">\n",
       "  <thead>\n",
       "    <tr style=\"text-align: right;\">\n",
       "      <th></th>\n",
       "      <th>reference</th>\n",
       "      <th>translation</th>\n",
       "      <th>similarity</th>\n",
       "      <th>lenght_diff</th>\n",
       "      <th>ref_tox</th>\n",
       "      <th>trn_tox</th>\n",
       "    </tr>\n",
       "  </thead>\n",
       "  <tbody>\n",
       "    <tr>\n",
       "      <th>213238</th>\n",
       "      <td>That the boss might’ve fucked someone else up ...</td>\n",
       "      <td>the fact that the boss might have hacked someo...</td>\n",
       "      <td>0.815064</td>\n",
       "      <td>0.048193</td>\n",
       "      <td>0.500185</td>\n",
       "      <td>0.000071</td>\n",
       "    </tr>\n",
       "    <tr>\n",
       "      <th>476035</th>\n",
       "      <td>Can you tell me what the hell is going on here?</td>\n",
       "      <td>can you tell me what's going on?</td>\n",
       "      <td>0.897083</td>\n",
       "      <td>0.312500</td>\n",
       "      <td>0.500365</td>\n",
       "      <td>0.000044</td>\n",
       "    </tr>\n",
       "    <tr>\n",
       "      <th>49824</th>\n",
       "      <td>Oh, my God, that's disgusting.</td>\n",
       "      <td>my God, this is outrageous.</td>\n",
       "      <td>0.854341</td>\n",
       "      <td>0.096774</td>\n",
       "      <td>0.500470</td>\n",
       "      <td>0.000203</td>\n",
       "    </tr>\n",
       "    <tr>\n",
       "      <th>381882</th>\n",
       "      <td>Pig fat was not part of the bet.</td>\n",
       "      <td>the cast is not part of the bet.</td>\n",
       "      <td>0.607406</td>\n",
       "      <td>0.000000</td>\n",
       "      <td>0.500488</td>\n",
       "      <td>0.000061</td>\n",
       "    </tr>\n",
       "    <tr>\n",
       "      <th>481735</th>\n",
       "      <td>It's about bloody time!</td>\n",
       "      <td>it's about time!</td>\n",
       "      <td>0.776916</td>\n",
       "      <td>0.291667</td>\n",
       "      <td>0.500502</td>\n",
       "      <td>0.000056</td>\n",
       "    </tr>\n",
       "    <tr>\n",
       "      <th>85274</th>\n",
       "      <td>It's about bloody time!</td>\n",
       "      <td>it was about time!</td>\n",
       "      <td>0.727407</td>\n",
       "      <td>0.208333</td>\n",
       "      <td>0.500502</td>\n",
       "      <td>0.000054</td>\n",
       "    </tr>\n",
       "    <tr>\n",
       "      <th>30000</th>\n",
       "      <td>Shot him in the doorway.</td>\n",
       "      <td>and they got him right in the door.</td>\n",
       "      <td>0.624124</td>\n",
       "      <td>0.305556</td>\n",
       "      <td>0.500517</td>\n",
       "      <td>0.000083</td>\n",
       "    </tr>\n",
       "    <tr>\n",
       "      <th>221767</th>\n",
       "      <td>Clothes, compliments and cocks.</td>\n",
       "      <td>clothes, compliments and birds.</td>\n",
       "      <td>0.791582</td>\n",
       "      <td>0.000000</td>\n",
       "      <td>0.500557</td>\n",
       "      <td>0.000066</td>\n",
       "    </tr>\n",
       "    <tr>\n",
       "      <th>406555</th>\n",
       "      <td>Thank you so fucking much.</td>\n",
       "      <td>thank you very much.</td>\n",
       "      <td>0.908010</td>\n",
       "      <td>0.222222</td>\n",
       "      <td>0.500597</td>\n",
       "      <td>0.000044</td>\n",
       "    </tr>\n",
       "    <tr>\n",
       "      <th>565656</th>\n",
       "      <td>I heard that, you smart-ass!</td>\n",
       "      <td>I heard it, genius!</td>\n",
       "      <td>0.666494</td>\n",
       "      <td>0.310345</td>\n",
       "      <td>0.500614</td>\n",
       "      <td>0.000406</td>\n",
       "    </tr>\n",
       "  </tbody>\n",
       "</table>\n",
       "</div>"
      ],
      "text/plain": [
       "                                                reference  \\\n",
       "213238  That the boss might’ve fucked someone else up ...   \n",
       "476035    Can you tell me what the hell is going on here?   \n",
       "49824                      Oh, my God, that's disgusting.   \n",
       "381882                   Pig fat was not part of the bet.   \n",
       "481735                            It's about bloody time!   \n",
       "85274                             It's about bloody time!   \n",
       "30000                            Shot him in the doorway.   \n",
       "221767                    Clothes, compliments and cocks.   \n",
       "406555                         Thank you so fucking much.   \n",
       "565656                       I heard that, you smart-ass!   \n",
       "\n",
       "                                              translation  similarity  \\\n",
       "213238  the fact that the boss might have hacked someo...    0.815064   \n",
       "476035                   can you tell me what's going on?    0.897083   \n",
       "49824                         my God, this is outrageous.    0.854341   \n",
       "381882                   the cast is not part of the bet.    0.607406   \n",
       "481735                                   it's about time!    0.776916   \n",
       "85274                                  it was about time!    0.727407   \n",
       "30000                 and they got him right in the door.    0.624124   \n",
       "221767                    clothes, compliments and birds.    0.791582   \n",
       "406555                               thank you very much.    0.908010   \n",
       "565656                                I heard it, genius!    0.666494   \n",
       "\n",
       "        lenght_diff   ref_tox   trn_tox  \n",
       "213238     0.048193  0.500185  0.000071  \n",
       "476035     0.312500  0.500365  0.000044  \n",
       "49824      0.096774  0.500470  0.000203  \n",
       "381882     0.000000  0.500488  0.000061  \n",
       "481735     0.291667  0.500502  0.000056  \n",
       "85274      0.208333  0.500502  0.000054  \n",
       "30000      0.305556  0.500517  0.000083  \n",
       "221767     0.000000  0.500557  0.000066  \n",
       "406555     0.222222  0.500597  0.000044  \n",
       "565656     0.310345  0.500614  0.000406  "
      ]
     },
     "execution_count": 16,
     "metadata": {},
     "output_type": "execute_result"
    }
   ],
   "source": [
    "data[data.ref_tox >= 0.5].sort_values(by='ref_tox', ascending=True).head(10)"
   ]
  },
  {
   "cell_type": "code",
   "execution_count": null,
   "metadata": {},
   "outputs": [],
   "source": []
  }
 ],
 "metadata": {
  "kernelspec": {
   "display_name": "base",
   "language": "python",
   "name": "python3"
  },
  "language_info": {
   "codemirror_mode": {
    "name": "ipython",
    "version": 3
   },
   "file_extension": ".py",
   "mimetype": "text/x-python",
   "name": "python",
   "nbconvert_exporter": "python",
   "pygments_lexer": "ipython3",
   "version": "3.11.4"
  },
  "orig_nbformat": 4
 },
 "nbformat": 4,
 "nbformat_minor": 2
}

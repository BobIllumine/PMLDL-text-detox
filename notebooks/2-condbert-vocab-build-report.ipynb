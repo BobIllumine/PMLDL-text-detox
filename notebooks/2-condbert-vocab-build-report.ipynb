{
 "cells": [
  {
   "cell_type": "markdown",
   "metadata": {},
   "source": [
    "# Text De-Toxification, part II: Building Vocabulary for condBERT\n",
    "### Robert Chen, B20-AI\n",
    "--------------------"
   ]
  },
  {
   "cell_type": "markdown",
   "metadata": {},
   "source": [
    "## Step 0: Imports"
   ]
  },
  {
   "cell_type": "code",
   "execution_count": 1,
   "metadata": {},
   "outputs": [],
   "source": [
    "import torch\n",
    "import sys\n",
    "import os\n",
    "from pathlib import Path\n",
    "import string\n",
    "\n",
    "# Small crutch to make Jupyter see the source folder\n",
    "if not sys.path.count(str(Path(os.path.realpath(\"\")).parent)):\n",
    "    sys.path.append(str(Path(os.path.realpath(\"\")).parent))\n",
    "    \n",
    "import pandas as pd\n",
    "import pickle\n",
    "import numpy as np\n",
    "from nltk import ngrams\n",
    "from sklearn.linear_model import LogisticRegression\n",
    "from sklearn.feature_extraction.text import CountVectorizer\n",
    "from tqdm import tqdm"
   ]
  },
  {
   "cell_type": "markdown",
   "metadata": {},
   "source": [
    "## Step 1: Download the datasets"
   ]
  },
  {
   "cell_type": "markdown",
   "metadata": {},
   "source": [
    "The **condBERT** model does not need to be trained, but we need a solid corpus for it to show acceptable results. Gladly, there are already a lot of datasets that suit this task specifically. In our case, we are going to use *Jigsaw* dataset, which was already prepared by SkolTech team and the initial *ParaNMT* dataset. "
   ]
  },
  {
   "cell_type": "code",
   "execution_count": 2,
   "metadata": {
    "vscode": {
     "languageId": "shellscript"
    }
   },
   "outputs": [],
   "source": [
    "#!usr/bin/bash\n",
    "DATA_DIR=\"../data\"\n",
    "! bash $DATA_DIR/download_jigsaw.sh\n",
    "! bash $DATA_DIR/download_paranmt.sh"
   ]
  },
  {
   "cell_type": "markdown",
   "metadata": {},
   "source": [
    "Now, we need to process *ParaNMT* and *ParaDetox* datasets and add them to the existing train data."
   ]
  },
  {
   "cell_type": "code",
   "execution_count": 19,
   "metadata": {},
   "outputs": [
    {
     "name": "stdout",
     "output_type": "stream",
     "text": [
      "hello?\n"
     ]
    }
   ],
   "source": [
    "paranmt_path = '../data/raw/filtered.tsv'\n",
    "\n",
    "train_toxic = '../data/interim/condbert_vocab/train/train_toxic'\n",
    "train_normal = '../data/interim/condbert_vocab/train/train_normal'"
   ]
  },
  {
   "cell_type": "markdown",
   "metadata": {},
   "source": [
    "In order to process the *ParaNMT* dataset, we need to gather all texts with high toxicity scores into `train_toxic` dataset and put the rest into `train_normal` dataset. We will try to cut off at the toxicity score of 0.5. Also we will need to separate the punctuation marks with a whitespace."
   ]
  },
  {
   "cell_type": "code",
   "execution_count": 4,
   "metadata": {},
   "outputs": [],
   "source": [
    "paranmt_df = pd.read_csv(paranmt_path, sep=\"\\t\", index_col=0)\n",
    "toxic_ref = paranmt_df[paranmt_df.ref_tox >= 0.5]['reference'].tolist()\n",
    "toxic_trans = paranmt_df[paranmt_df.trn_tox >= 0.5]['translation'].tolist()\n",
    "with open(train_toxic, 'a') as f:\n",
    "    f.writelines(toxic_ref)\n",
    "with open(train_toxic, 'a') as f:\n",
    "    f.writelines(toxic_trans)\n",
    "neutral_ref = paranmt_df[paranmt_df.ref_tox < 0.5]['reference'].tolist()\n",
    "neutral_trans = paranmt_df[paranmt_df.trn_tox < 0.5]['translation'].tolist()\n",
    "with open(train_normal, 'a') as f:\n",
    "    f.writelines(neutral_ref)\n",
    "with open(train_normal, 'a') as f:\n",
    "    f.writelines(neutral_trans)\n",
    "# tokenizer = WordPunctTokenizer()\n",
    "# with tqdm(range(len(arr))) as t:\n",
    "#     for i in t:\n",
    "#         arr[i] = ' '.join(tokenizer.tokenize(arr[i]))\n",
    "#         t.set_description(f'Line #{i}/{len(arr)}')\n",
    "# print(arr[:5])"
   ]
  },
  {
   "cell_type": "code",
   "execution_count": 5,
   "metadata": {},
   "outputs": [],
   "source": []
  }
 ],
 "metadata": {
  "kernelspec": {
   "display_name": "base",
   "language": "python",
   "name": "python3"
  },
  "language_info": {
   "codemirror_mode": {
    "name": "ipython",
    "version": 3
   },
   "file_extension": ".py",
   "mimetype": "text/x-python",
   "name": "python",
   "nbconvert_exporter": "python",
   "pygments_lexer": "ipython3",
   "version": "3.11.4"
  },
  "orig_nbformat": 4
 },
 "nbformat": 4,
 "nbformat_minor": 2
}
